{
 "cells": [
  {
   "cell_type": "markdown",
   "metadata": {
    "id": "Zx1wKZvRXcDO"
   },
   "source": [
    "### **Use this Notebook on Google Colab Free GPU**\n",
    "Go to Google Drive, upload this notebook and dataset folders. Rigth click notebook, choose **Open with -> Google Colab**\n",
    "<br>\n",
    "To activate GPU in Colab, go to **Runtime -> Change Runtime Type**. Under **Hardware accelerator** choose **GPU**"
   ]
  },
  {
   "cell_type": "markdown",
   "metadata": {
    "id": "Fbh7Q1OwY1ab"
   },
   "source": [
    "### Connect to Google Drive to access Dataset"
   ]
  },
  {
   "cell_type": "code",
   "execution_count": 1,
   "metadata": {
    "colab": {
     "base_uri": "https://localhost:8080/",
     "height": 50
    },
    "executionInfo": {
     "elapsed": 104226,
     "status": "ok",
     "timestamp": 1601637802478,
     "user": {
      "displayName": "Manu Manoj",
      "photoUrl": "https://lh3.googleusercontent.com/a-/AOh14GjkRgSw8Fpj8f66r940ghCh2emLSg0VatR1xmw4_kQ=s64",
      "userId": "11737439373136758477"
     },
     "user_tz": -330
    },
    "id": "aFjZxmFn3hmJ",
    "outputId": "4ed82920-8723-4bb4-dd98-a81a26a71d90"
   },
   "outputs": [
    {
     "name": "stdout",
     "output_type": "stream",
     "text": [
      "Mounted at /content/drive\n",
      "/content/drive/My Drive/TARP\n"
     ]
    }
   ],
   "source": [
    "from google.colab import drive\n",
    "drive.mount('/content/drive')\n",
    "%cd '/content/drive/My Drive/TARP'"
   ]
  },
  {
   "cell_type": "markdown",
   "metadata": {
    "id": "jmoBAdCuXzFB"
   },
   "source": [
    "### Import all dependencies"
   ]
  },
  {
   "cell_type": "code",
   "execution_count": 2,
   "metadata": {
    "executionInfo": {
     "elapsed": 107253,
     "status": "ok",
     "timestamp": 1601637805514,
     "user": {
      "displayName": "Manu Manoj",
      "photoUrl": "https://lh3.googleusercontent.com/a-/AOh14GjkRgSw8Fpj8f66r940ghCh2emLSg0VatR1xmw4_kQ=s64",
      "userId": "11737439373136758477"
     },
     "user_tz": -330
    },
    "id": "mArgDd393_54"
   },
   "outputs": [],
   "source": [
    "from __future__ import print_function, division\n",
    "from builtins import range, input\n",
    "\n",
    "from tensorflow.keras.layers import Input, Lambda, Dense, Flatten, GlobalAveragePooling2D, Dropout\n",
    "from tensorflow.keras.models import Model, load_model\n",
    "from tensorflow.keras.applications import VGG19\n",
    "from tensorflow.keras.applications.vgg16 import preprocess_input\n",
    "from tensorflow.keras.preprocessing import image\n",
    "from tensorflow.keras.preprocessing.image import ImageDataGenerator\n",
    "\n",
    "\n",
    "from sklearn.metrics import confusion_matrix, roc_curve\n",
    "import seaborn as sns\n",
    "import numpy as np\n",
    "import matplotlib.pyplot as plt\n",
    "\n",
    "from glob import glob\n",
    "import pandas as pd\n",
    "import os\n",
    "\n",
    "\n",
    "\n"
   ]
  },
  {
   "cell_type": "markdown",
   "metadata": {
    "id": "JHFmAOJ9ajx1"
   },
   "source": [
    "### Define Few Parameters"
   ]
  },
  {
   "cell_type": "code",
   "execution_count": 3,
   "metadata": {
    "colab": {
     "base_uri": "https://localhost:8080/",
     "height": 50
    },
    "executionInfo": {
     "elapsed": 112595,
     "status": "ok",
     "timestamp": 1601637810861,
     "user": {
      "displayName": "Manu Manoj",
      "photoUrl": "https://lh3.googleusercontent.com/a-/AOh14GjkRgSw8Fpj8f66r940ghCh2emLSg0VatR1xmw4_kQ=s64",
      "userId": "11737439373136758477"
     },
     "user_tz": -330
    },
    "id": "0h6epi3D6WGQ",
    "outputId": "5e037efa-bb1a-4e3b-9de8-076bb33c351b"
   },
   "outputs": [
    {
     "name": "stdout",
     "output_type": "stream",
     "text": [
      "462\n",
      "505\n"
     ]
    }
   ],
   "source": [
    "#define size to which images are to be resized\n",
    "IMAGE_SIZE = [224, 224] # feel free to change depending on dataset\n",
    "\n",
    "# training config:\n",
    "epochs = 500\n",
    "batch_size = 32\n",
    "\n",
    "#define paths\n",
    "covid_path = \"chest/Chest_COVID\"\n",
    "noncovid_path = \"chest/Chest_NonCOVID\"\n",
    "\n",
    "# Use glob to grab images from path .jpg or jpeg\n",
    "covid_files = glob(covid_path + '/*')\n",
    "noncovid_files = glob(noncovid_path + '/*')\n",
    "print(len(covid_files))\n",
    "print(len(noncovid_files))"
   ]
  },
  {
   "cell_type": "markdown",
   "metadata": {
    "id": "zpCwxG6Vcuu9"
   },
   "source": [
    "### Fetch Images and Class Labels from Files (This might take a while)"
   ]
  },
  {
   "cell_type": "code",
   "execution_count": null,
   "metadata": {
    "id": "DprWWADzG-TR"
   },
   "outputs": [],
   "source": [
    "# Preparing Labels\n",
    "covid_labels = []\n",
    "noncovid_labels = []\n",
    "\n",
    "covid_images=[]\n",
    "noncovid_images=[]\n",
    "\n",
    "import cv2 \n",
    "\n",
    "for i in range(len(covid_files)):\n",
    "  image = cv2.imread(covid_files[i])\n",
    "  image = cv2.cvtColor(image, cv2.COLOR_BGR2RGB)\n",
    "  image = cv2.resize(image,(224,224))\n",
    "  covid_images.append(image)\n",
    "  covid_labels.append('Chest_COVID')\n",
    "for i in range(len(noncovid_files)):\n",
    "  image = cv2.imread(noncovid_files[i])\n",
    "  image = cv2.cvtColor(image, cv2.COLOR_BGR2RGB)\n",
    "  image = cv2.resize(image,(224,224))\n",
    "  noncovid_images.append(image)\n",
    "  noncovid_labels.append('Chest_NonCOVID')"
   ]
  },
  {
   "cell_type": "markdown",
   "metadata": {
    "id": "04OuC8kzhrka"
   },
   "source": [
    "### Visualize First 40 Images from Data set"
   ]
  },
  {
   "cell_type": "code",
   "execution_count": null,
   "metadata": {
    "id": "aN3IdTHHhyfl"
   },
   "outputs": [],
   "source": [
    "# look at a random image for fun\n",
    "def plot_images(images, title):\n",
    "    nrows, ncols = 5, 8\n",
    "    figsize = [10, 6]\n",
    "\n",
    "    fig, ax = plt.subplots(nrows=nrows, ncols=ncols, figsize=figsize, facecolor=(1, 1, 1))\n",
    "\n",
    "    for i, axi in enumerate(ax.flat):\n",
    "        axi.imshow(images[i])\n",
    "        axi.set_axis_off()\n",
    "\n",
    "    plt.suptitle(title, fontsize=24)\n",
    "    plt.tight_layout(pad=0.2, rect=[0, 0, 1, 0.9])\n",
    "    plt.show()\n",
    "plot_images(covid_images, 'Positive COVID-19 Chest X-ray')\n",
    "plot_images(noncovid_images, 'Negative COVID-19 Chest X-ray')"
   ]
  },
  {
   "cell_type": "markdown",
   "metadata": {
    "id": "Z4oSc4ake4N4"
   },
   "source": [
    "### **Normalization**\n",
    "#### Model takes images in the form of array of pixels. Hence convert into array and *normalize*"
   ]
  },
  {
   "cell_type": "code",
   "execution_count": null,
   "metadata": {
    "id": "64G38eYlGS8g"
   },
   "outputs": [],
   "source": [
    "# Convert to array and Normalize to interval of [0,1]\n",
    "covid_images = np.array(covid_images) / 255\n",
    "noncovid_images = np.array(noncovid_images) / 255"
   ]
  },
  {
   "cell_type": "markdown",
   "metadata": {
    "id": "VXltydCxfxTo"
   },
   "source": [
    "### **Train Test Split**"
   ]
  },
  {
   "cell_type": "code",
   "execution_count": null,
   "metadata": {
    "id": "1GzPOOfKLZGi"
   },
   "outputs": [],
   "source": [
    "from sklearn.model_selection import train_test_split\n",
    "from sklearn.preprocessing import LabelBinarizer\n",
    "from tensorflow.keras.utils import to_categorical\n",
    "\n",
    "# split into training and testing\n",
    "covid_x_train, covid_x_test, covid_y_train, covid_y_test = train_test_split(\n",
    "    covid_images, covid_labels, test_size=0.2)\n",
    "noncovid_x_train, noncovid_x_test, noncovid_y_train, noncovid_y_test = train_test_split(\n",
    "    noncovid_images, noncovid_labels, test_size=0.2)\n",
    "\n",
    "\n",
    "X_train = np.concatenate((noncovid_x_train, covid_x_train), axis=0)\n",
    "X_test = np.concatenate((noncovid_x_test, covid_x_test), axis=0)\n",
    "y_train = np.concatenate((noncovid_y_train, covid_y_train), axis=0)\n",
    "y_test = np.concatenate((noncovid_y_test, covid_y_test), axis=0)\n",
    "\n",
    "# make labels into categories - either 0 or 1\n",
    "y_train = LabelBinarizer().fit_transform(y_train)\n",
    "y_train = to_categorical(y_train)\n",
    "\n",
    "y_test = LabelBinarizer().fit_transform(y_test)\n",
    "y_test = to_categorical(y_test)"
   ]
  },
  {
   "cell_type": "markdown",
   "metadata": {
    "id": "PzwF8fPsgRR5"
   },
   "source": [
    "### Visualize a few images from Training and Test sets"
   ]
  },
  {
   "cell_type": "code",
   "execution_count": null,
   "metadata": {
    "id": "ZZmqySfO1PUy"
   },
   "outputs": [],
   "source": [
    "plot_images(covid_x_train, 'X_train')\n",
    "plot_images(covid_x_test, 'X_test')\n",
    "# y_train and y_test contain class lables 0 and 1 representing COVID and NonCOVID for X_train and X_test"
   ]
  },
  {
   "cell_type": "markdown",
   "metadata": {
    "id": "7T3wkds0N5hK"
   },
   "source": [
    "### **Building and Visualizing model**"
   ]
  },
  {
   "cell_type": "code",
   "execution_count": null,
   "metadata": {
    "id": "7DmylTfn7XND"
   },
   "outputs": [],
   "source": [
    "\n",
    "\n",
    "\n",
    "vggModel = VGG19(weights=\"imagenet\", include_top=False, input_tensor=Input(shape=(224, 224, 3)))\n",
    "\n",
    "    \n",
    "outputs = vggModel.output\n",
    "outputs = Flatten(name=\"flatten\")(outputs)\n",
    "outputs = Dropout(0.5)(outputs)\n",
    "outputs = Dense(2, activation=\"softmax\")(outputs)\n",
    "\n",
    "\n",
    "model = Model(inputs=vggModel.input, outputs=outputs)\n",
    "\n",
    "for layer in vggModel.layers:\n",
    "    layer.trainable = False\n",
    "\n",
    "model.compile(\n",
    "        loss='categorical_crossentropy', \n",
    "        optimizer='adam', \n",
    "        metrics=['accuracy']\n",
    ")\n",
    "\n"
   ]
  },
  {
   "cell_type": "code",
   "execution_count": null,
   "metadata": {
    "id": "EtlBn63m7jbT"
   },
   "outputs": [],
   "source": [
    "model.summary()"
   ]
  },
  {
   "cell_type": "markdown",
   "metadata": {
    "id": "z8_B0QdQjhCM"
   },
   "source": [
    "### **Image Augmentation**\n",
    "To train on images at different positions, angles, flips, etc"
   ]
  },
  {
   "cell_type": "code",
   "execution_count": null,
   "metadata": {
    "id": "ZFbdLQ7yjoOS"
   },
   "outputs": [],
   "source": [
    "train_aug = ImageDataGenerator(\n",
    "    rotation_range=20,\n",
    "    width_shift_range=0.2,\n",
    "    height_shift_range=0.2,\n",
    "    horizontal_flip=True\n",
    ")"
   ]
  },
  {
   "cell_type": "markdown",
   "metadata": {
    "id": "FDdG0hOYO5oc"
   },
   "source": [
    "### **Training the model**"
   ]
  },
  {
   "cell_type": "code",
   "execution_count": null,
   "metadata": {
    "id": "IJPR0OjX-IFv"
   },
   "outputs": [],
   "source": [
    "\n",
    "history = model.fit(train_aug.flow(X_train, y_train, batch_size=32),\n",
    "                validation_data=(X_test, y_test),\n",
    "                validation_steps=len(X_test) / 32,\n",
    "                steps_per_epoch=len(X_train) / 32,\n",
    "                epochs=500)"
   ]
  },
  {
   "cell_type": "code",
   "execution_count": null,
   "metadata": {
    "id": "x6z8EtY_--Ar"
   },
   "outputs": [],
   "source": [
    "model.save('vgg_chest.h5')"
   ]
  },
  {
   "cell_type": "code",
   "execution_count": null,
   "metadata": {
    "id": "a6RVO4BvFH9I"
   },
   "outputs": [],
   "source": [
    "model.save_weights('vggweights_chest.hdf5')"
   ]
  },
  {
   "cell_type": "code",
   "execution_count": null,
   "metadata": {
    "id": "P_Ojh_0bkmZA"
   },
   "outputs": [],
   "source": [
    "model = load_model('vgg_chest.h5')"
   ]
  },
  {
   "cell_type": "markdown",
   "metadata": {
    "id": "phWro75kSBI2"
   },
   "source": [
    "### **Making Predicions**"
   ]
  },
  {
   "cell_type": "code",
   "execution_count": null,
   "metadata": {
    "id": "Dso993Mv7sEF"
   },
   "outputs": [],
   "source": [
    "y_pred = model.predict(X_test, batch_size=batch_size)"
   ]
  },
  {
   "cell_type": "markdown",
   "metadata": {
    "id": "OBiA8iqGSGr7"
   },
   "source": [
    "### Visulaizing First 10 predictions"
   ]
  },
  {
   "cell_type": "code",
   "execution_count": null,
   "metadata": {
    "id": "S22ulPybSYLe"
   },
   "outputs": [],
   "source": [
    "prediction=y_pred[0:10]\n",
    "for index, probability in enumerate(prediction):\n",
    "  if probability[1] > 0.5:\n",
    "        plt.title('%.2f' % (probability[1]*100) + '% COVID')\n",
    "  else:\n",
    "        plt.title('%.2f' % ((1-probability[1])*100) + '% NonCOVID')\n",
    "  plt.imshow(X_test[index])\n",
    "  plt.show()"
   ]
  },
  {
   "cell_type": "code",
   "execution_count": null,
   "metadata": {
    "id": "t7OnPLZZp3tq"
   },
   "outputs": [],
   "source": [
    "# Convert to Binary classes\n",
    "y_pred_bin = np.argmax(y_pred, axis=1)\n",
    "y_test_bin = np.argmax(y_test, axis=1)"
   ]
  },
  {
   "cell_type": "markdown",
   "metadata": {
    "id": "QAPfnQ2Np3PE"
   },
   "source": [
    "### Plot ROC Curve"
   ]
  },
  {
   "cell_type": "code",
   "execution_count": null,
   "metadata": {
    "id": "M7k3UOqThPLw"
   },
   "outputs": [],
   "source": [
    "fpr, tpr, thresholds = roc_curve(y_test_bin, y_pred_bin)\n",
    "plt.plot(fpr, tpr)\n",
    "plt.xlim([0.0, 1.0])\n",
    "plt.ylim([0.0, 1.0])\n",
    "plt.rcParams['font.size'] = 12\n",
    "plt.title('ROC curve for our model')\n",
    "plt.xlabel('False Positive Rate')\n",
    "plt.ylabel('True Positive Rate')\n",
    "plt.grid(True)"
   ]
  },
  {
   "cell_type": "markdown",
   "metadata": {
    "id": "wNyZRJ1JfYC1"
   },
   "source": [
    "### Plot Confusion Matrix"
   ]
  },
  {
   "cell_type": "code",
   "execution_count": null,
   "metadata": {
    "id": "t80JK23kVxua"
   },
   "outputs": [],
   "source": [
    "def plot_confusion_matrix(normalize):\n",
    "  classes = ['COVID','NonCOVID']\n",
    "  tick_marks = [0.5,1.5]\n",
    "  cn = confusion_matrix(y_test_bin, y_pred_bin,normalize=normalize)\n",
    "  sns.heatmap(cn,cmap='plasma',annot=True)\n",
    "  plt.xticks(tick_marks, classes)\n",
    "  plt.yticks(tick_marks, classes)\n",
    "  plt.title('Confusion Matrix')\n",
    "  plt.ylabel('True label')\n",
    "  plt.xlabel('Predicted label')\n",
    "  plt.show()\n",
    "\n",
    "print('Confusion Matrix without Normalization')\n",
    "plot_confusion_matrix(normalize=None)\n",
    "\n",
    "print('Confusion Matrix with Normalized Values')\n",
    "plot_confusion_matrix(normalize='true')"
   ]
  },
  {
   "cell_type": "markdown",
   "metadata": {
    "id": "aZoH_wCSMDD4"
   },
   "source": [
    "### **Classification Report**"
   ]
  },
  {
   "cell_type": "code",
   "execution_count": null,
   "metadata": {
    "id": "kFSCY2HH7uVc"
   },
   "outputs": [],
   "source": [
    "from sklearn.metrics import classification_report\n",
    "print(classification_report(y_test_bin, y_pred_bin))"
   ]
  },
  {
   "cell_type": "markdown",
   "metadata": {
    "id": "I1makQs5MMlU"
   },
   "source": [
    "### **Accuracy and Loss Plots**"
   ]
  },
  {
   "cell_type": "code",
   "execution_count": null,
   "metadata": {
    "id": "26Vwg9q47_sK"
   },
   "outputs": [],
   "source": [
    "plt.figure(figsize=(10,10))\n",
    "\n",
    "plt.plot(history.history['accuracy'])\n",
    "plt.plot(history.history['val_accuracy'])\n",
    "\n",
    "plt.title('Model Accuracy')\n",
    "plt.ylabel('Accuracy')\n",
    "plt.xlabel('Epoch')\n",
    "\n",
    "plt.legend(['Training', 'Testing'])\n",
    "plt.savefig('vgg_chest_accuracy.png')\n",
    "plt.show()\n"
   ]
  },
  {
   "cell_type": "code",
   "execution_count": null,
   "metadata": {
    "id": "pgwr4yJA8A0e"
   },
   "outputs": [],
   "source": [
    "plt.figure(figsize=(10,10))\n",
    "\n",
    "plt.plot(history.history['loss'])\n",
    "plt.plot(history.history['val_loss'])\n",
    "\n",
    "plt.title('Model Loss')\n",
    "plt.ylabel('Loss')\n",
    "plt.xlabel('Epoch')\n",
    "\n",
    "plt.legend(['Training', 'Testing'])\n",
    "plt.savefig('vgg_chest_loss.png')\n",
    "plt.show()"
   ]
  },
  {
   "cell_type": "code",
   "execution_count": null,
   "metadata": {
    "id": "tDWug3NpMkGX"
   },
   "outputs": [],
   "source": []
  },
  {
   "cell_type": "code",
   "execution_count": null,
   "metadata": {
    "id": "8C2U4TnbkoR2"
   },
   "outputs": [],
   "source": []
  }
 ],
 "metadata": {
  "accelerator": "GPU",
  "colab": {
   "collapsed_sections": [],
   "machine_shape": "hm",
   "name": "VGG chest.ipynb",
   "provenance": []
  },
  "kernelspec": {
   "display_name": "Python 3",
   "language": "python",
   "name": "python3"
  },
  "language_info": {
   "codemirror_mode": {
    "name": "ipython",
    "version": 3
   },
   "file_extension": ".py",
   "mimetype": "text/x-python",
   "name": "python",
   "nbconvert_exporter": "python",
   "pygments_lexer": "ipython3",
   "version": "3.7.4"
  }
 },
 "nbformat": 4,
 "nbformat_minor": 1
}
